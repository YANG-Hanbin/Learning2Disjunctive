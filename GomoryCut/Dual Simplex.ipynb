{
 "cells": [
  {
   "cell_type": "code",
   "execution_count": 1,
   "metadata": {},
   "outputs": [],
   "source": [
    "import numpy as np"
   ]
  },
  {
   "cell_type": "code",
   "execution_count": 2,
   "metadata": {},
   "outputs": [],
   "source": [
    "def dual_simplex(A,b,c,Basis):\n",
    "    indexes=list(range(0,len(c)))\n",
    "    iter=0\n",
    "    optimal=False\n",
    "    while True:\n",
    "        print(\"ITERATION:\",iter)\n",
    "        c_B = np.transpose(np.transpose(c)[:,Basis])\n",
    "        A_B = A[:, Basis]\n",
    "        A_B_inv=np.linalg.inv(A_B)\n",
    "        X_B=np.matmul(np.linalg.inv(A_B),b)\n",
    "        table=np.matmul(A_B_inv,A)\n",
    "        c_reduced=np.transpose(c)-np.matmul(np.transpose(c_B),table)\n",
    "        NB=list(set(indexes)-set(Basis))\n",
    "        z=np.matmul(np.transpose(c_B),X_B)\n",
    "\n",
    "        print(\"Basis:\",Basis)\n",
    "        print(\"Reduced Costs:\", c_reduced)\n",
    "        print(\"RHS or X_B\", X_B)\n",
    "        print(\"A_B inverse*A (inside table):\",table)\n",
    "        print(\"Z:\",z,\"\\n\")\n",
    "\n",
    "        leave_found=False\n",
    "        for j in range(len(b)): \n",
    "            if X_B[j]<0 and leave_found==False:\n",
    "                leaving_index=Basis[j]\n",
    "                leaving_ind=j\n",
    "                leave_found=True #terminates loop and ensures Bland's Rule is applied\n",
    "        if leave_found==False:\n",
    "            print(\"TABLE IS OPTIMAL\")\n",
    "            optimal=True\n",
    "            break\n",
    "\n",
    "        row=table[leaving_ind:leaving_ind+1]\n",
    "        \n",
    "        min_ratios=[1000000] #is an initializer\n",
    "        for item in NB:\n",
    "            if row[:,item]<0:\n",
    "                min_ratio=c_reduced[:,item]/row[:,item]\n",
    "                min_ratios.append(min_ratio)\n",
    "                if min_ratio<min_ratios[min_ratios.index(min_ratio)-1]: #<, not =< ensures Bland's\n",
    "                    entering_index=item\n",
    "        \n",
    "        if len(min_ratios)==1:\n",
    "            print(\"PROBLEM INFEASIBLE\")\n",
    "            break\n",
    "\n",
    "        Basis.remove(leaving_index)\n",
    "        Basis.append(entering_index)\n",
    "        iter+=1"
   ]
  },
  {
   "cell_type": "code",
   "execution_count": 3,
   "metadata": {},
   "outputs": [
    {
     "name": "stdout",
     "output_type": "stream",
     "text": [
      "ITERATION: 0\n",
      "Basis: [3, 4]\n",
      "Reduced Costs: [[-4. -6. -5.  0.  0.]]\n",
      "RHS or X_B [[-3.]\n",
      " [-6.]]\n",
      "A_B inverse*A (inside table): [[-2.  0. -3.  1.  0.]\n",
      " [ 0. -3. -2.  0.  1.]]\n",
      "Z: [[0.]] \n",
      "\n",
      "ITERATION: 1\n",
      "Basis: [4, 2]\n",
      "Reduced Costs: [[-0.66666667 -6.          0.         -1.66666667  0.        ]]\n",
      "RHS or X_B [[-4.]\n",
      " [ 1.]]\n",
      "A_B inverse*A (inside table): [[ 1.33333333 -3.          0.         -0.66666667  1.        ]\n",
      " [ 0.66666667  0.          1.         -0.33333333  0.        ]]\n",
      "Z: [[-5.]] \n",
      "\n",
      "ITERATION: 2\n",
      "Basis: [2, 1]\n",
      "Reduced Costs: [[-3.33333333  0.          0.         -0.33333333 -2.        ]]\n",
      "RHS or X_B [[1.        ]\n",
      " [1.33333333]]\n",
      "A_B inverse*A (inside table): [[ 0.66666667  0.          1.         -0.33333333  0.        ]\n",
      " [-0.44444444  1.          0.          0.22222222 -0.33333333]]\n",
      "Z: [[-13.]] \n",
      "\n",
      "TABLE IS OPTIMAL\n"
     ]
    }
   ],
   "source": [
    "A=np.matrix([[-2,0,-3,1,0],\n",
    "             [0,-3,-2,0,1]])\n",
    "b=np.transpose(np.matrix([-3,-6]))\n",
    "c=np.transpose(np.matrix([-4,-6,-5,0,0]))\n",
    "Basis=[3,4] #these indexes belong to excess variables x4 and x5\n",
    "dual_simplex(A,b,c,Basis)"
   ]
  }
 ],
 "metadata": {
  "kernelspec": {
   "display_name": "Python 3",
   "language": "python",
   "name": "python3"
  },
  "language_info": {
   "codemirror_mode": {
    "name": "ipython",
    "version": 3
   },
   "file_extension": ".py",
   "mimetype": "text/x-python",
   "name": "python",
   "nbconvert_exporter": "python",
   "pygments_lexer": "ipython3",
   "version": "3.11.5"
  }
 },
 "nbformat": 4,
 "nbformat_minor": 4
}
