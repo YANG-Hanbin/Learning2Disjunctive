{
 "cells": [
  {
   "cell_type": "code",
   "execution_count": 67,
   "metadata": {},
   "outputs": [],
   "source": [
    "from copy import deepcopy\n",
    "import gurobipy as gp\n",
    "from gurobipy import GRB\n",
    "import torch\n",
    "import torch.nn as nn\n",
    "import numpy as np\n",
    "import os\n",
    "import math\n",
    "import time\n",
    "import random\n",
    "from cutting_plane_framework import CuttingPlaneMethod\n"
   ]
  },
  {
   "cell_type": "code",
   "execution_count": 68,
   "metadata": {},
   "outputs": [],
   "source": [
    "class CuttingPlaneTreeAlgorithm(CuttingPlaneMethod):\n",
    "    def __init__(self, instanceName, maxIteration=100, OutputFlag=0, Threads=1, MIPGap=0.0, TimeLimit=3600, MIPFocus=2, cglp_OutputFlag=0, cglp_Threads=1, cglp_MIPGap=0.0, cglp_TimeLimit=100, cglp_MIPFocus=0, addCutToMIP=False, number_branch_var=2, normalization='SNC', additional_param=None):\n",
    "        super().__init__(instanceName, maxIteration, OutputFlag, Threads, MIPGap, TimeLimit, MIPFocus, cglp_OutputFlag, cglp_Threads, cglp_MIPGap, cglp_TimeLimit, cglp_MIPFocus, addCutToMIP, number_branch_var, normalization)\n",
    "        self.additional_param = additional_param\n",
    "    \n",
    "    def locate_node(self):\n",
    "        for node_index, node in self.nodeSet.items():\n",
    "            if node['branchInfo'] == []:\n",
    "                return node_index\n",
    "            for info in node['branchInfo']: # info <- (varName, SENSE, bound)\n",
    "                pos = self.varName_map_position[info[0]]\n",
    "                if info[1] == '<':\n",
    "                    if self.lp_sol[pos] <= info[2]:\n",
    "                        continue\n",
    "                    else:\n",
    "                        break\n",
    "                elif info[1] == '>':\n",
    "                    if self.lp_sol[pos] >= info[2]:\n",
    "                        print('2')\n",
    "                        continue\n",
    "                    else:\n",
    "                        break\n",
    "                return node_index\n",
    "        \n",
    "        return random.choice(list(self.nodeSet.keys()))\n",
    "    \n",
    "\n",
    "    def branching_variable_selection(self):\n",
    "        # TODO::add ML model to choose the variable to branch\n",
    "        # choose the variable to branch: Maximum Fractionality Rule\n",
    "        number_of_noninteger = len(self.non_integer_vars[self.iteration - 1])\n",
    "        number_of_nonbinary = len(self.non_binary_vars[self.iteration - 1])\n",
    "        if number_of_noninteger > 0 or number_of_nonbinary > 0:\n",
    "            self.branchVar[self.iteration-1] = {}\n",
    "            maxKey = None\n",
    "            maxDistance = None\n",
    "            if number_of_noninteger > 0:  \n",
    "                maxKey = max(self.non_integer_vars[self.iteration-1], key=self.non_integer_vars[self.iteration-1].get)     # find the integer variables that have the largest distance to the nearest integer  \n",
    "                maxDistance = self.non_integer_vars[self.iteration-1][maxKey] \n",
    "\n",
    "            if number_of_nonbinary > 0: \n",
    "                tmp_maxKey = max(self.non_binary_vars[self.iteration-1], key=self.non_binary_vars[self.iteration-1].get)     # find the integer variables that have the largest distance to the nearest integer  \n",
    "                tmp_maxDistance = self.non_binary_vars[self.iteration-1][tmp_maxKey] \n",
    "                if maxDistance == None or tmp_maxDistance > maxDistance:\n",
    "                    maxKey = tmp_maxKey\n",
    "                    maxDistance = tmp_maxDistance\n",
    "\n",
    "            self.branchVar[self.iteration-1][maxKey] = maxDistance\n",
    "            return maxKey\n",
    "        else:\n",
    "            return None\n",
    "\n",
    "    def cutting_plane_tree(self):     \n",
    "        # 0. initialize the cutting plane tree\n",
    "        if self.iteration == 1:\n",
    "            self.nodeSet = {}\n",
    "            self.nodeSet[0] = {}\n",
    "            self.nodeSet[0]['LB'] = deepcopy(self.LB)\n",
    "            self.nodeSet[0]['UB'] = deepcopy(self.UB)\n",
    "            self.nodeSet[0]['branchInfo'] = [] # node[branchInfo] <- (varName, SENSE, bound)\n",
    "        # 1. locate the LP solution in the cutting plane tree\n",
    "        node = self.locate_node()\n",
    "        # print('node: ', node)\n",
    "        if node == None:\n",
    "            return \n",
    "        # 2. select the variables to branch\n",
    "        varName = self.branching_variable_selection()\n",
    "        pos = self.varName_map_position[varName]\n",
    "\n",
    "        # 3. update the cutting plane tree\n",
    "        left_node = {}\n",
    "        left_node['LB'] = deepcopy(self.nodeSet[node]['LB'])\n",
    "        left_node['LB'][pos] = math.ceil(self.lp_sol[pos])  \n",
    "        left_node['UB'] = deepcopy(self.nodeSet[node]['UB'])\n",
    "        left_node['branchInfo'] = deepcopy(self.nodeSet[node]['branchInfo'])\n",
    "        left_node['branchInfo'].append([varName, '>', math.ceil(self.lp_sol[pos])])\n",
    "\n",
    "        right_node = {}\n",
    "        right_node['LB'] = deepcopy(self.nodeSet[node]['LB'])\n",
    "        right_node['UB'] = deepcopy(self.nodeSet[node]['UB'])\n",
    "        right_node['UB'][pos] = math.floor(self.lp_sol[pos]) \n",
    "        right_node['branchInfo'] = deepcopy(self.nodeSet[node]['branchInfo'])\n",
    "        right_node['branchInfo'].append([varName, '<', math.floor(self.lp_sol[pos])])\n",
    "        # update the cutting plane tree by deleting the current node and adding two new children nodes\n",
    "        left_node_ind = max(self.nodeSet.keys()) + 1\n",
    "        right_node_ind = left_node_ind + 1\n",
    "        self.nodeSet[left_node_ind] = left_node\n",
    "        self.nodeSet[right_node_ind] = right_node\n",
    "        del self.nodeSet[node]  \n",
    "\n",
    "\n",
    "    def solve(self):\n",
    "        time_init = time.time()\n",
    "        while self.iteration <= self.maxIteration:\n",
    "            iter_begin = time.time()\n",
    "            self.master_problem()\n",
    "            self.cutting_plane_tree()\n",
    "            ready_to_cut = time.time()\n",
    "            self.cut_generation()\n",
    "            iter_end = time.time()\n",
    "            overall = iter_end - time_init\n",
    "            iteration_time = iter_end - iter_begin\n",
    "            cut_time = iter_end - ready_to_cut\n",
    "            self.print_iteration_info(cut_time, iteration_time, overall)"
   ]
  },
  {
   "cell_type": "code",
   "execution_count": 69,
   "metadata": {},
   "outputs": [
    {
     "name": "stdout",
     "output_type": "stream",
     "text": [
      "Read MPS format model from file benchmark/50v-10.mps.gz\n",
      "Reading time = 0.02 seconds\n",
      "50v-10: 233 rows, 2013 columns, 2745 nonzeros\n",
      "This problem has 1647 integer variables and 0 binary variables.\n",
      "The optimal value of LP relaxation is 2879.0656868536717.\n",
      "---------------------------------------------------------------------------------------------------------------------------------\n",
      "|  Iter  |  # fractional var  |  current value  |  Relative Improvement  |  Overall Improvement  |  Iter Time  |  Overall Time  |\n",
      "---------------------------------------------------------------------------------------------------------------------------------\n",
      "|       1|                  29|        2882.1282|                 0.1063 |                0.1064 |      0.4638 |         0.7698 |\n",
      "|       2|                  29|        2882.1282|                 0.0000 |                0.1064 |      0.8032 |         1.5731 |\n",
      "|       3|                  29|        2882.1282|                 0.0000 |                0.1064 |      1.4459 |         3.0191 |\n",
      "|       4|                  29|        2885.2011|                 0.1065 |                0.2131 |      2.7603 |         5.7795 |\n",
      "|       5|                  29|        2885.2011|                 0.0000 |                0.2131 |      2.6515 |         8.4311 |\n",
      "|       6|                  29|        2885.2011|                 0.0000 |                0.2131 |      2.6255 |        11.0567 |\n",
      "|       7|                  29|        2885.2011|                 0.0000 |                0.2131 |      3.3206 |        14.3774 |\n",
      "|       8|                  29|        2885.2011|                 0.0000 |                0.2131 |      3.0616 |        17.4391 |\n",
      "|       9|                  29|        2885.2011|                 0.0000 |                0.2131 |      6.9998 |        24.4390 |\n",
      "|      10|                  29|        2885.2011|                 0.0000 |                0.2131 |      5.3947 |        29.8338 |\n",
      "---------------------------------------------------------------------------------------------------------------------------------\n"
     ]
    }
   ],
   "source": [
    "instanceName = '50v-10'\n",
    "cpt = CuttingPlaneTreeAlgorithm(instanceName, maxIteration=10, OutputFlag = 0, Threads = 1, MIPGap = 0.0, TimeLimit = 300, number_branch_var = 1, normalization = 'SNC')\n",
    "cpt.solve()"
   ]
  },
  {
   "cell_type": "code",
   "execution_count": 72,
   "metadata": {},
   "outputs": [
    {
     "data": {
      "text/plain": [
       "dict_keys([6, 8, 11, 12, 13, 15, 16, 17, 18, 20, 21, 22])"
      ]
     },
     "execution_count": 72,
     "metadata": {},
     "output_type": "execute_result"
    }
   ],
   "source": [
    "cpt.nodeSet.keys()"
   ]
  }
 ],
 "metadata": {
  "kernelspec": {
   "display_name": "OptML",
   "language": "python",
   "name": "python3"
  },
  "language_info": {
   "codemirror_mode": {
    "name": "ipython",
    "version": 3
   },
   "file_extension": ".py",
   "mimetype": "text/x-python",
   "name": "python",
   "nbconvert_exporter": "python",
   "pygments_lexer": "ipython3",
   "version": "3.11.5"
  }
 },
 "nbformat": 4,
 "nbformat_minor": 2
}
