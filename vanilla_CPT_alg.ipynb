{
 "cells": [
  {
   "cell_type": "code",
   "execution_count": 1,
   "metadata": {},
   "outputs": [],
   "source": [
    "from copy import deepcopy\n",
    "import gurobipy as gp\n",
    "from gurobipy import GRB\n",
    "import torch\n",
    "import torch.nn as nn\n",
    "import numpy as np\n",
    "import os\n",
    "import math\n",
    "import time\n",
    "import random\n",
    "from opt_alg.cutting_plane_framework import CuttingPlaneMethod\n",
    "from opt_alg.vanilla_CPT_alg import CuttingPlaneTreeAlgorithm\n",
    "\n"
   ]
  },
  {
   "cell_type": "code",
   "execution_count": 2,
   "metadata": {},
   "outputs": [
    {
     "name": "stdout",
     "output_type": "stream",
     "text": [
      "Read MPS format model from file benchmark/50v-10.mps.gz\n",
      "Reading time = 0.02 seconds\n",
      "50v-10: 233 rows, 2013 columns, 2745 nonzeros\n",
      "This problem has 1647 integer variables and 0 binary variables.\n",
      "The optimal value of LP relaxation is 2879.0656868536717.\n",
      "---------------------------------------------------------------------------------------------------------------------------------\n",
      "|  Iter  |  # fractional var  |  current value  |  Relative Improvement  |  Overall Improvement  |  Iter Time  |  Overall Time  |\n",
      "---------------------------------------------------------------------------------------------------------------------------------\n",
      "|       1|                  29|        2882.1282|                 0.1063 |                0.1064 |      0.4907 |         0.7996 |\n",
      "|       2|                  29|        2885.2011|                 0.1065 |                0.2131 |      0.9542 |         1.7539 |\n",
      "|       3|                  29|        2885.2011|                 0.0000 |                0.2131 |      1.4935 |         3.2475 |\n",
      "|       4|                  29|        2885.2011|                 0.0000 |                0.2131 |      1.5096 |         4.7572 |\n",
      "|       5|                  29|        2885.2011|                 0.0000 |                0.2131 |      0.8405 |         5.5981 |\n",
      "|       6|                  29|        2885.2011|                 0.0000 |                0.2131 |      1.3269 |         6.9251 |\n",
      "|       7|                  29|        2885.2011|                 0.0000 |                0.2131 |      2.4110 |         9.3362 |\n",
      "|       8|                  29|        2885.2011|                 0.0000 |                0.2131 |      2.2786 |        11.6149 |\n",
      "|       9|                  29|        2885.2011|                 0.0000 |                0.2131 |      2.4267 |        14.0417 |\n",
      "|      10|                  29|        2885.2011|                 0.0000 |                0.2131 |      2.4672 |        16.5090 |\n",
      "---------------------------------------------------------------------------------------------------------------------------------\n"
     ]
    }
   ],
   "source": [
    "instanceName = '50v-10'\n",
    "cpt = CuttingPlaneTreeAlgorithm(instanceName, maxIteration=10, OutputFlag = 0, Threads = 1, MIPGap = 0.0, TimeLimit = 300, number_branch_var = 1, normalization = 'SNC')\n",
    "cpt.solve()"
   ]
  }
 ],
 "metadata": {
  "kernelspec": {
   "display_name": "OptML",
   "language": "python",
   "name": "python3"
  },
  "language_info": {
   "codemirror_mode": {
    "name": "ipython",
    "version": 3
   },
   "file_extension": ".py",
   "mimetype": "text/x-python",
   "name": "python",
   "nbconvert_exporter": "python",
   "pygments_lexer": "ipython3",
   "version": "3.11.5"
  }
 },
 "nbformat": 4,
 "nbformat_minor": 2
}
