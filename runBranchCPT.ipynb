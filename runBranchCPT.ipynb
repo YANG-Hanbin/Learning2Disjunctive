{
 "cells": [
  {
   "cell_type": "code",
   "execution_count": 1,
   "metadata": {},
   "outputs": [],
   "source": [
    "from copy import deepcopy\n",
    "import gurobipy as gp\n",
    "from gurobipy import GRB\n",
    "import torch\n",
    "import torch.nn as nn\n",
    "import numpy as np\n",
    "import os\n",
    "import math\n",
    "import time\n",
    "import random\n"
   ]
  },
  {
   "cell_type": "code",
   "execution_count": 2,
   "metadata": {},
   "outputs": [],
   "source": [
    "from opt_alg.branch_and_CPT_alg import BranchAndCuttingPlaneTreeAlgorithm"
   ]
  },
  {
   "cell_type": "code",
   "execution_count": 6,
   "metadata": {},
   "outputs": [
    {
     "name": "stdout",
     "output_type": "stream",
     "text": [
      "Read MPS format model from file benchmark/50v-10.mps.gz\n",
      "Reading time = 0.01 seconds\n",
      "50v-10: 233 rows, 2013 columns, 2745 nonzeros\n",
      "This problem has 1647 integer variables and 0 binary variables.\n",
      "The optimal value of LP relaxation is 2879.0656868536717.\n",
      "---------------------------------------------------------------------------------------------------------\n",
      "|  Iter  |    Lower Bound   |   Overall Improvement   |    Upper Bound   |  Iter Time  |  Overall Time  |\n",
      "---------------------------------------------------------------------------------------------------------\n",
      "|       1|         2888.0303|                  0.3114 |              inf |      0.7657 |         1.3453 |\n",
      "|       2|         2895.3303|                  0.5649 |              inf |      0.7409 |         2.0863 |\n",
      "|       3|         2901.0501|                  0.7636 |              inf |      0.7639 |         2.8503 |\n",
      "|       4|         2901.4303|                  0.7768 |              inf |      0.7652 |         3.6155 |\n",
      "|       5|         2907.6178|                  0.9917 |              inf |      0.7323 |         4.3479 |\n",
      "|       6|         2913.7115|                  1.2034 |              inf |      0.7775 |         5.1255 |\n",
      "|       7|         2914.4501|                  1.2290 |              inf |      0.7789 |         5.9045 |\n",
      "|       8|         2919.6803|                  1.4107 |              inf |      0.7941 |         6.6987 |\n",
      "|       9|         2919.7501|                  1.4131 |              inf |      0.7502 |         7.4490 |\n",
      "|      10|         2921.2563|                  1.4654 |              inf |      0.7794 |         8.2284 |\n",
      "---------------------------------------------------------------------------------------------------------\n"
     ]
    }
   ],
   "source": [
    "instanceName = '50v-10'\n",
    "\n",
    "bcpt = BranchAndCuttingPlaneTreeAlgorithm(instanceName, maxIteration = 10, OutputFlag = 0, Threads = 1, MIPGap = 0.0, TimeLimit = 300, nodeSelectionMode = 'BBR', branchVariableSelectionMode = 'MFR', cptVariableSelectionMode = 'MFR')\n",
    "bcpt.solve()"
   ]
  },
  {
   "cell_type": "code",
   "execution_count": 7,
   "metadata": {},
   "outputs": [
    {
     "name": "stdout",
     "output_type": "stream",
     "text": [
      "Read MPS format model from file benchmark/50v-10.mps.gz\n",
      "Reading time = 0.01 seconds\n",
      "50v-10: 233 rows, 2013 columns, 2745 nonzeros\n",
      "This problem has 1647 integer variables and 0 binary variables.\n",
      "The optimal value of LP relaxation is 2879.0656868536717.\n",
      "---------------------------------------------------------------------------------------------------------\n",
      "|  Iter  |    Lower Bound   |   Overall Improvement   |    Upper Bound   |  Iter Time  |  Overall Time  |\n",
      "---------------------------------------------------------------------------------------------------------\n",
      "|       1|         2893.0303|                  0.4850 |              inf |      2.6815 |         4.8500 |\n",
      "|       2|         2898.1594|                  0.6632 |              inf |      2.6814 |         7.5315 |\n",
      "|       3|         2904.2303|                  0.8741 |              inf |      2.0384 |         9.5699 |\n",
      "|       4|         2906.0501|                  0.9373 |              inf |      2.7257 |        12.2957 |\n",
      "|       5|         2907.5240|                  0.9885 |              inf |      2.1532 |        14.4490 |\n",
      "|       6|         2910.8693|                  1.1047 |              inf |      2.9010 |        17.3501 |\n",
      "|       7|         2917.2501|                  1.3263 |              inf |      2.7104 |        20.0607 |\n",
      "|       8|         2917.4006|                  1.3315 |              inf |      2.2196 |        22.2804 |\n",
      "|       9|         2920.6069|                  1.4429 |              inf |      2.6625 |        24.9429 |\n",
      "|      10|         2922.8751|                  1.5217 |              inf |      2.8750 |        27.8180 |\n",
      "---------------------------------------------------------------------------------------------------------\n"
     ]
    }
   ],
   "source": [
    "instanceName = '50v-10'\n",
    "\n",
    "bcpt = BranchAndCuttingPlaneTreeAlgorithm(instanceName, maxIteration = 10, OutputFlag = 0, Threads = 1, MIPGap = 0.0, number_branch_var = 3, TimeLimit = 300, nodeSelectionMode = 'BBR', branchVariableSelectionMode = 'MFR', cptVariableSelectionMode = 'MFR')\n",
    "bcpt.solve()"
   ]
  }
 ],
 "metadata": {
  "kernelspec": {
   "display_name": "OptML",
   "language": "python",
   "name": "python3"
  },
  "language_info": {
   "codemirror_mode": {
    "name": "ipython",
    "version": 3
   },
   "file_extension": ".py",
   "mimetype": "text/x-python",
   "name": "python",
   "nbconvert_exporter": "python",
   "pygments_lexer": "ipython3",
   "version": "3.11.5"
  }
 },
 "nbformat": 4,
 "nbformat_minor": 2
}
