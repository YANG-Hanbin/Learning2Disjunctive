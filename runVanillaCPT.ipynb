{
 "cells": [
  {
   "cell_type": "code",
   "execution_count": 2,
   "metadata": {},
   "outputs": [],
   "source": [
    "from copy import deepcopy\n",
    "import gurobipy as gp\n",
    "from gurobipy import GRB\n",
    "import torch\n",
    "import torch.nn as nn\n",
    "import numpy as np\n",
    "import os\n",
    "import math\n",
    "import time\n",
    "import random\n",
    "from opt_alg.cutting_plane_framework import CuttingPlaneMethod\n",
    "from opt_alg.vanilla_CPT_alg import CuttingPlaneTreeAlgorithm\n",
    "\n"
   ]
  },
  {
   "cell_type": "code",
   "execution_count": 3,
   "metadata": {},
   "outputs": [
    {
     "name": "stdout",
     "output_type": "stream",
     "text": [
      "Read MPS format model from file benchmark/assign1-5-8.mps.gz\n",
      "Reading time = 0.02 seconds\n",
      "assign1-5-8: 161 rows, 156 columns, 3720 nonzeros\n",
      "This problem has 130 integer variables and 0 binary variables.\n",
      "The optimal value of LP relaxation is 183.36255497382197.\n",
      "---------------------------------------------------------------------------------------------------------------------------------\n",
      "|  Iter  |  # fractional var  |  current value  |  Relative Improvement  |  Overall Improvement  |  Iter Time  |  Overall Time  |\n",
      "---------------------------------------------------------------------------------------------------------------------------------\n",
      "|       1|                 115|         183.4382|                 0.0412 |                0.0412 |      0.1394 |         0.2114 |\n",
      "|       2|                 113|         183.4889|                 0.0276 |                0.0689 |      0.2545 |         0.4660 |\n",
      "|       3|                 114|         183.4889|                 0.0000 |                0.0689 |      0.4463 |         0.9125 |\n",
      "|       4|                 115|         183.4889|                 0.0000 |                0.0689 |      0.6493 |         1.5619 |\n",
      "|       5|                 116|         183.4889|                 0.0000 |                0.0689 |      1.0235 |         2.5854 |\n",
      "|       6|                 115|         183.5955|                 0.0581 |                0.1270 |      1.2491 |         3.8346 |\n",
      "|       7|                 115|         183.5991|                 0.0020 |                0.1290 |      1.4648 |         5.2995 |\n",
      "|       8|                 118|         183.6974|                 0.0535 |                0.1826 |      2.6328 |         7.9323 |\n",
      "|       9|                 112|         183.7374|                 0.0217 |                0.2044 |      5.1428 |        13.0752 |\n",
      "|      10|                 112|         183.7793|                 0.0228 |                0.2273 |      6.2189 |        19.2942 |\n",
      "|      11|                 118|         183.9960|                 0.1178 |                0.3455 |     11.9027 |        31.1969 |\n",
      "|      12|                 119|         184.0380|                 0.0228 |                0.3684 |      9.9335 |        41.1306 |\n",
      "|      13|                 119|         184.1080|                 0.0380 |                0.4065 |     14.1103 |        55.2409 |\n",
      "|      14|                 118|         184.1482|                 0.0218 |                0.4284 |     14.2382 |        69.4792 |\n",
      "|      15|                 118|         184.1663|                 0.0098 |                0.4383 |     16.3491 |        85.8284 |\n",
      "|      16|                 118|         184.1772|                 0.0059 |                0.4443 |     15.2385 |       101.0670 |\n",
      "|      17|                 120|         184.1890|                 0.0064 |                0.4507 |     21.4483 |       122.5154 |\n",
      "|      18|                 118|         184.1931|                 0.0023 |                0.4530 |     26.8261 |       149.3416 |\n",
      "|      19|                 118|         184.1946|                 0.0008 |                0.4538 |     39.1554 |       188.4971 |\n",
      "|      20|                 118|         184.1952|                 0.0003 |                0.4541 |     31.9368 |       220.4340 |\n",
      "---------------------------------------------------------------------------------------------------------------------------------\n"
     ]
    }
   ],
   "source": [
    "instanceName = '50v-10'\n",
    "instanceName = 'tr12-30'\n",
    "instanceName = 'beasleyC3'\n",
    "instanceName = 'assign1-5-8'\n",
    "cpt = CuttingPlaneTreeAlgorithm(instanceName, maxIteration=20, OutputFlag = 0, Threads = 1, MIPGap = 0.0, TimeLimit = 300, number_branch_var = 1, normalization = 'SNC')\n",
    "cpt.solve()"
   ]
  }
 ],
 "metadata": {
  "kernelspec": {
   "display_name": "OptML",
   "language": "python",
   "name": "python3"
  },
  "language_info": {
   "codemirror_mode": {
    "name": "ipython",
    "version": 3
   },
   "file_extension": ".py",
   "mimetype": "text/x-python",
   "name": "python",
   "nbconvert_exporter": "python",
   "pygments_lexer": "ipython3",
   "version": "3.11.5"
  }
 },
 "nbformat": 4,
 "nbformat_minor": 2
}
