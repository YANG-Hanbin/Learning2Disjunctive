{
 "cells": [
  {
   "cell_type": "code",
   "execution_count": 21,
   "metadata": {},
   "outputs": [],
   "source": [
    "import matplotlib.pyplot as plt\n",
    "\n",
    "fn='tr12-30'\n",
    "# fn='beasleyC3'\n",
    "# fn='assign1-5-8'\n",
    "f=open(fn,'r')"
   ]
  },
  {
   "cell_type": "code",
   "execution_count": 22,
   "metadata": {},
   "outputs": [
    {
     "name": "stdout",
     "output_type": "stream",
     "text": [
      "[[14210.42652103263, 14576.3666, 14585.4265, 14951.3666, 15099.5365, 15135.9518, 15293.3889, 15499.6036, 15567.1296, 15718.2884, 15792.5419, 15796.8125, 15848.0884, 15988.9586, 16132.8585, 16197.4112, 16254.418, 16321.4056, 16383.7762, 16424.9474, 16441.5872], [14210.42652103263, 14585.4265, 14585.4265, 14946.6302, 15133.6636, 15279.5977, 15322.5895, 15339.3351, 15392.6232, 15397.6926, 15397.6926, 15397.6926, 15397.6926, 15397.6926, 15397.6926, 15397.6926, 15397.6926, 15397.6926, 15397.6926, 15397.6926, 15397.6926], [14210.42652103263, 14393.8711, 14394.1381, 14486.0607, 14577.5827, 14761.8284, 14946.6081, 15131.6548, 15317.2356, 15502.9499, 15689.8658, 15876.2476, 16617.392, 16626.1114, 17367.2558, 17368.8907, 17594.9977, 17683.5985, 17698.917, 17818.4609, 17829.4206]]\n"
     ]
    },
    {
     "data": {
      "text/plain": [
       "<Figure size 640x480 with 0 Axes>"
      ]
     },
     "metadata": {},
     "output_type": "display_data"
    }
   ],
   "source": [
    "mode=0\n",
    "rec=[[],[],[]]\n",
    "for line in f:\n",
    "    line=line.replace('\\r','').replace('\\n','')\n",
    "    if 'MFR:' in line:\n",
    "        line=line.split(':')[-1].split(' ')[-1][:-1]\n",
    "        rec[0].append(float(line))\n",
    "        mode=1\n",
    "    elif 'Vanilla:' in line:\n",
    "        line=line.split(':')[-1].split(' ')[-1][:-1]\n",
    "        rec[1].append(float(line))\n",
    "        mode=2\n",
    "    elif 'RL:' in line:\n",
    "        line=line.split(':')[-1].split(' ')[-1][:-1]\n",
    "        rec[2].append(float(line))\n",
    "        mode=3\n",
    "    elif mode==1:\n",
    "        if '---' in line or '#' in line:\n",
    "            continue\n",
    "        line=line.replace(' ','').split('|')\n",
    "        line=[x for x in line if x!=''][2]\n",
    "        rec[0].append(float(line))\n",
    "\n",
    "    elif mode==2:\n",
    "        if '---' in line or '#' in line:\n",
    "            continue\n",
    "        line=line.replace(' ','').split('|')\n",
    "        line=[x for x in line if x!=''][2]\n",
    "        rec[1].append(float(line))\n",
    "    elif mode==3:\n",
    "        if '---' in line or '#' in line:\n",
    "            continue\n",
    "        line=line.replace(' ','').split('|')\n",
    "        line=[x for x in line if x!=''][2]\n",
    "        rec[2].append(float(line))\n",
    "f.close()\n",
    "\n",
    "print(rec)\n",
    "\n",
    "x=[]\n",
    "for i in range(len(rec[0])):\n",
    "    x.append(i)\n",
    "    \n",
    "# RL plot\n",
    "plt.plot(x, rec[0], label='MFR')\n",
    "plt.plot(x, rec[2], label='RL')\n",
    "\n",
    "# Increase the font size for the legend, xlabel, and ylabel\n",
    "plt.legend(fontsize='large')  # Increase legend font size\n",
    "plt.xlabel('Iteration', fontsize='large')  # Increase xlabel font size\n",
    "plt.ylabel('Best Bound', fontsize='large')  # Increase ylabel font size\n",
    "\n",
    "# Save the figure as a PDF\n",
    "plt.savefig(f'../fig/mfrRL{fn}.pdf', format='pdf')\n",
    "\n",
    "# Clear the current figure\n",
    "plt.clf()\n",
    "\n",
    "\n",
    "    \n",
    "# vanilla plot\n",
    "plt.plot(x, rec[1], label='Vanilla')\n",
    "plt.plot(x, rec[2], label='RL')\n",
    "\n",
    "# Increase the font size for the legend, xlabel, and ylabel\n",
    "plt.legend(fontsize='large')  # Increase legend font size\n",
    "plt.xlabel('Iteration', fontsize='large')  # Increase xlabel font size\n",
    "plt.ylabel('Best Bound', fontsize='large')  # Increase ylabel font size\n",
    "\n",
    "# Save the figure as a PDF\n",
    "plt.savefig(f'../fig/vanRL{fn}.pdf', format='pdf')\n",
    "\n",
    "# Clear the current figure\n",
    "plt.clf()"
   ]
  }
 ],
 "metadata": {
  "kernelspec": {
   "display_name": "OptML",
   "language": "python",
   "name": "python3"
  },
  "language_info": {
   "codemirror_mode": {
    "name": "ipython",
    "version": 3
   },
   "file_extension": ".py",
   "mimetype": "text/x-python",
   "name": "python",
   "nbconvert_exporter": "python",
   "pygments_lexer": "ipython3",
   "version": "3.11.5"
  }
 },
 "nbformat": 4,
 "nbformat_minor": 2
}
