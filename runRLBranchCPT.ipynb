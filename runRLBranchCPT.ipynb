{
 "cells": [
  {
   "cell_type": "code",
   "execution_count": 1,
   "metadata": {},
   "outputs": [],
   "source": [
    "from copy import deepcopy\n",
    "import gurobipy as gp\n",
    "from gurobipy import GRB\n",
    "import torch\n",
    "import torch.nn as nn\n",
    "import numpy as np\n",
    "import os\n",
    "import math\n",
    "import time\n",
    "import random\n",
    "import torch.multiprocessing as multiprocessing\n",
    "\n",
    "from opt_alg.rl_branch_and_CPT_alg import RLBranchAndCuttingPlaneTreeAlgorithm\n",
    "from rl_alg.model import var_sorter,var_decider,SharedAdam,Critic\n",
    "\n",
    "# instanceName = '/mnt/nfs_share/public/sribd_mip_library/2017-MIPLIB_collection/50v-10'\n",
    "instanceName = '50v-10'\n",
    "\n",
    "\n",
    "mdl1=var_sorter(v_size=6,c_size=3, sample_sizes=[64,128], multi_head=2, natt=2)\n",
    "mdl1.share_memory()\n",
    "mdl2=var_decider(v_size=6,c_size=3, sample_sizes=[64,128], multi_head=2, natt=2)\n",
    "mdl2.share_memory()\n",
    "mdl3=Critic(input_size=128*3, sample_sizes=[64,64])\n",
    "mdl3.share_memory()\n",
    "global_mdl=[mdl1,\n",
    "            mdl2,\n",
    "           mdl3, \n",
    "            SharedAdam(list(mdl1.parameters())+list(mdl2.parameters())+list(mdl3.parameters()))]\n",
    "\n",
    "\n",
    "\n",
    "def train1(idx,lck):\n",
    "    print(f'Adding worker {idx}...')\n",
    "    bcpt = RLBranchAndCuttingPlaneTreeAlgorithm(instanceName, lock = lck ,maxIteration = 200, OutputFlag = 0, maxBuffer=5, Threads = 1, MIPGap = 0.0, TimeLimit = 300, nodeSelectionMode = 'BBR', branchVariableSelectionMode = 'MFR', cptVariableSelectionMode = 'MFR')\n",
    "    bcpt.train(20)\n",
    "    print('Done')"
   ]
  },
  {
   "cell_type": "code",
   "execution_count": 3,
   "metadata": {},
   "outputs": [
    {
     "name": "stdout",
     "output_type": "stream",
     "text": [
      "Read MPS format model from file benchmark/50v-10.mps.gz\n",
      "Reading time = 0.01 seconds\n",
      "50v-10: 233 rows, 2013 columns, 2745 nonzeros\n",
      "Checkpoint loaded\n",
      "This problem has 1647 integer variables and 0 binary variables.\n",
      "The optimal value of LP relaxation is 2879.0656868536717.\n",
      "---------------------------------------------------------------------------------------------------------\n",
      "|  Iter  |    Lower Bound   |   Overall Improvement   |    Upper Bound   |  Iter Time  |  Overall Time  |\n",
      "---------------------------------------------------------------------------------------------------------\n",
      "|       1|         2885.2969|                  0.2164 |              inf |      0.8632 |         2.0469 |\n",
      "|       2|         2893.6969|                  0.5082 |              inf |      1.2024 |         3.2493 |\n",
      "|       3|         2897.0900|                  0.6260 |              inf |      1.7626 |         5.0120 |\n",
      "|       4|         2902.1603|                  0.8022 |              inf |      1.8266 |         6.8386 |\n",
      "|       5|         2906.3447|                  0.9475 |              inf |      1.7337 |         8.5724 |\n",
      "|       6|         2914.0787|                  1.2161 |              inf |      1.8021 |        10.3746 |\n",
      "|       7|         2914.1736|                  1.2194 |              inf |      1.9556 |        12.3303 |\n",
      "|       8|         2914.9615|                  1.2468 |              inf |      1.5827 |        13.9131 |\n",
      "|       9|         2920.1468|                  1.4269 |              inf |      1.8053 |        15.7184 |\n",
      "|      10|         2920.6283|                  1.4436 |              inf |      1.6912 |        17.4097 |\n",
      "|      11|         2921.2662|                  1.4658 |              inf |      1.7224 |        19.1322 |\n",
      "|      12|         2922.4874|                  1.5082 |              inf |      1.9321 |        21.0643 |\n",
      "|      13|         2924.4283|                  1.5756 |              inf |      1.2722 |        22.3366 |\n",
      "|      14|         2925.3395|                  1.6073 |              inf |      1.3371 |        23.6738 |\n",
      "|      15|         2927.2575|                  1.6739 |              inf |      1.8583 |        25.5322 |\n",
      "|      16|         2928.1680|                  1.7055 |              inf |      1.7949 |        27.3272 |\n",
      "|      17|         2929.5977|                  1.7552 |              inf |      2.1280 |        29.4553 |\n",
      "\n",
      "Interrupt request received\n",
      "|      18|         2930.7683|                  1.7958 |              inf |      1.9148 |        31.3702 |\n",
      "|      19|         2932.0311|                  1.8397 |              inf |      1.3372 |        32.7075 |\n",
      "|      20|         2933.1167|                  1.8774 |              inf |      1.7440 |        34.4516 |\n",
      "|      21|         2934.8826|                  1.9387 |              inf |      1.4596 |        35.9112 |\n",
      "|      22|         2935.5245|                  1.9610 |              inf |      1.6946 |        37.6059 |\n",
      "|      23|         2935.7422|                  1.9686 |              inf |      1.4342 |        39.0402 |\n",
      "|      24|         2937.8842|                  2.0430 |              inf |      1.3780 |        40.4182 |\n",
      "|      25|         2938.4855|                  2.0639 |              inf |      1.3492 |        41.7675 |\n"
     ]
    }
   ],
   "source": [
    "# multiprocessing.set_start_method('spawn')\n",
    "# lck=multiprocessing.Lock()\n",
    "\n",
    "# processes=[]\n",
    "# n_workers=4\n",
    "\n",
    "# for i in range(n_workers):\n",
    "#     p = multiprocessing.Process(target=train1,args=(i,lck))\n",
    "#     processes.append(p)\n",
    "#     p.start()\n",
    "\n",
    "# for p in processes:\n",
    "#     p.join()\n",
    "bcpt = RLBranchAndCuttingPlaneTreeAlgorithm(instanceName ,maxIteration = 200, OutputFlag = 0, maxBuffer=5, Threads = 1, MIPGap = 0.0, TimeLimit = 300, nodeSelectionMode = 'BBR', branchVariableSelectionMode = 'RL', cptVariableSelectionMode = 'RL')\n",
    "\n",
    "bcpt.solve(110)"
   ]
  }
 ],
 "metadata": {
  "kernelspec": {
   "display_name": "OptML",
   "language": "python",
   "name": "python3"
  },
  "language_info": {
   "codemirror_mode": {
    "name": "ipython",
    "version": 3
   },
   "file_extension": ".py",
   "mimetype": "text/x-python",
   "name": "python",
   "nbconvert_exporter": "python",
   "pygments_lexer": "ipython3",
   "version": "3.11.5"
  }
 },
 "nbformat": 4,
 "nbformat_minor": 2
}
