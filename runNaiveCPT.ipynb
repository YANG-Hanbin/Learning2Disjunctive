{
 "cells": [
  {
   "cell_type": "code",
   "execution_count": 1,
   "metadata": {},
   "outputs": [],
   "source": [
    "from copy import deepcopy\n",
    "import gurobipy as gp\n",
    "from gurobipy import GRB\n",
    "import torch\n",
    "import torch.nn as nn\n",
    "import numpy as np\n",
    "import os\n",
    "import math\n",
    "import time\n",
    "import sys\n",
    "from tqdm import tqdm\n",
    "\n",
    "from opt_alg.cutting_plane_framework import CuttingPlaneMethod\n",
    "from rl_alg.model import var_sorter\n",
    "from opt_alg.naive_CPT_alg import NaiveCuttingPlaneTreeAlgorithm\n",
    "\n"
   ]
  },
  {
   "cell_type": "code",
   "execution_count": 2,
   "metadata": {},
   "outputs": [
    {
     "name": "stdout",
     "output_type": "stream",
     "text": [
      "Read MPS format model from file benchmark/assign1-5-8.mps.gz\n",
      "Reading time = 0.02 seconds\n",
      "assign1-5-8: 161 rows, 156 columns, 3720 nonzeros\n",
      "Loaded check point: ./models/ckp_45.mdl\n",
      "This problem has 130 integer variables and 0 binary variables.\n",
      "The optimal value of LP relaxation is 183.36255497382197.\n",
      "---------------------------------------------------------------------------------------------------------------------------------\n",
      "|  Iter  |  # fractional var  |  current value  |  Relative Improvement  |  Overall Improvement  |  Iter Time  |  Overall Time  |\n",
      "---------------------------------------------------------------------------------------------------------------------------------\n",
      "|       1|                 113|         183.7536|                 0.2128 |                0.2133 |      0.1980 |         0.3708 |\n",
      "|       2|                 113|         183.9798|                 0.1229 |                0.3366 |      0.2510 |         0.6219 |\n",
      "|       3|                 106|         184.5989|                 0.3354 |                0.6743 |      0.2492 |         0.8711 |\n",
      "|       4|                 107|         184.6258|                 0.0145 |                0.6889 |      0.2807 |         1.1519 |\n",
      "|       5|                 109|         184.6390|                 0.0072 |                0.6961 |      0.2720 |         1.4239 |\n",
      "|       6|                 107|         184.7057|                 0.0361 |                0.7325 |      0.2826 |         1.7066 |\n",
      "|       7|                 106|         184.7767|                 0.0384 |                0.7712 |      0.2799 |         1.9866 |\n",
      "|       8|                 107|         184.7797|                 0.0016 |                0.7729 |      0.3065 |         2.2932 |\n",
      "|       9|                 107|         184.7850|                 0.0029 |                0.7758 |      0.3135 |         2.6068 |\n",
      "|      10|                 107|         184.7857|                 0.0004 |                0.7761 |      0.3043 |         2.9111 |\n",
      "|      11|                 106|         184.7872|                 0.0008 |                0.7770 |      0.3139 |         3.2251 |\n",
      "|      12|                 108|         184.7888|                 0.0009 |                0.7778 |      0.3172 |         3.5423 |\n",
      "|      13|                 107|         184.7898|                 0.0005 |                0.7784 |      0.3086 |         3.8510 |\n",
      "|      14|                 108|         184.7900|                 0.0001 |                0.7785 |      0.3377 |         4.1888 |\n",
      "|      15|                 109|         184.7914|                 0.0008 |                0.7793 |      0.3285 |         4.5174 |\n",
      "|      16|                 112|         184.7919|                 0.0002 |                0.7795 |      0.3835 |         4.9010 |\n",
      "|      17|                 111|         184.8264|                 0.0187 |                0.7983 |      0.3324 |         5.2334 |\n",
      "|      18|                 114|         184.8308|                 0.0024 |                0.8007 |      0.3409 |         5.5744 |\n",
      "|      19|                 113|         184.8317|                 0.0005 |                0.8012 |      0.3239 |         5.8984 |\n",
      "|      20|                 115|         184.8322|                 0.0003 |                0.8015 |      0.3454 |         6.2439 |\n",
      "---------------------------------------------------------------------------------------------------------------------------------\n",
      "Read MPS format model from file benchmark/assign1-5-8.mps.gz\n",
      "Reading time = 0.01 seconds\n",
      "assign1-5-8: 161 rows, 156 columns, 3720 nonzeros\n",
      "Loaded check point: ./models/ckp_45.mdl\n",
      "This problem has 130 integer variables and 0 binary variables.\n",
      "The optimal value of LP relaxation is 183.36255497382197.\n",
      "---------------------------------------------------------------------------------------------------------------------------------\n",
      "|  Iter  |  # fractional var  |  current value  |  Relative Improvement  |  Overall Improvement  |  Iter Time  |  Overall Time  |\n",
      "---------------------------------------------------------------------------------------------------------------------------------\n",
      "|       1|                 113|         183.6031|                 0.1310 |                0.1312 |      0.2092 |         0.4023 |\n",
      "|       2|                 112|         183.6304|                 0.0149 |                0.1461 |      0.1938 |         0.5962 |\n",
      "|       3|                 113|         183.8633|                 0.1267 |                0.2731 |      0.2049 |         0.8011 |\n",
      "|       4|                 112|         184.0915|                 0.1240 |                0.3976 |      0.3078 |         1.1089 |\n",
      "|       5|                 111|         184.1143|                 0.0124 |                0.4100 |      0.2850 |         1.3941 |\n",
      "|       6|                 112|         184.1166|                 0.0013 |                0.4112 |      0.2876 |         1.6818 |\n",
      "|       7|                 112|         184.1229|                 0.0035 |                0.4147 |      0.2839 |         1.9658 |\n",
      "|       8|                 113|         184.1239|                 0.0005 |                0.4152 |      0.2932 |         2.2591 |\n",
      "|       9|                 114|         184.1327|                 0.0048 |                0.4200 |      0.3258 |         2.5850 |\n",
      "|      10|                 115|         184.1360|                 0.0018 |                0.4218 |      0.3045 |         2.8895 |\n",
      "|      11|                 116|         184.1537|                 0.0096 |                0.4315 |      0.2882 |         3.1778 |\n",
      "|      12|                 114|         184.4667|                 0.1697 |                0.6021 |      0.3057 |         3.4837 |\n",
      "|      13|                 110|         184.6554|                 0.1022 |                0.7051 |      0.3194 |         3.8031 |\n",
      "|      14|                 112|         184.6976|                 0.0229 |                0.7281 |      0.3453 |         4.1485 |\n",
      "|      15|                 106|         184.7648|                 0.0364 |                0.7648 |      0.3240 |         4.4726 |\n",
      "|      16|                 112|         184.9161|                 0.0818 |                0.8473 |      0.3195 |         4.7922 |\n",
      "|      17|                 108|         184.9386|                 0.0121 |                0.8595 |      0.3337 |         5.1260 |\n",
      "|      18|                 106|         184.9409|                 0.0012 |                0.8608 |      0.4807 |         5.6068 |\n",
      "|      19|                 109|         184.9801|                 0.0212 |                0.8821 |      0.4781 |         6.0849 |\n",
      "|      20|                 105|         185.2368|                 0.1386 |                1.0222 |      0.4466 |         6.5316 |\n",
      "---------------------------------------------------------------------------------------------------------------------------------\n"
     ]
    }
   ],
   "source": [
    "instanceName = '50v-10'\n",
    "instanceName = 'tr12-30'\n",
    "instanceName = 'beasleyC3'\n",
    "instanceName = 'assign1-5-8'\n",
    "# cpt = NaiveCuttingPlaneTreeAlgorithm(instanceName,training=True, save_interval=20, maxIteration=20, OutputFlag = 0, Threads = 1, MIPGap = 0.0, TimeLimit = 300, number_branch_var = 2, normalization = 'SNC')\n",
    "# # cpt.train_model_each_round_warmStart(num_episodes=20)\n",
    "# cpt.train_model_each_round(num_episodes=200)\n",
    "# quit()\n",
    "\n",
    "cpt = NaiveCuttingPlaneTreeAlgorithm(instanceName,training=True, save_interval=20, maxIteration=20, OutputFlag = 0, Threads = 1, MIPGap = 0.0, TimeLimit = 300, number_branch_var = 2, normalization = 'SNC')\n",
    "cpt.solve(variable_selection_way = 'MFR')\n",
    "\n",
    "cpt = NaiveCuttingPlaneTreeAlgorithm(instanceName,training=True, save_interval=20, maxIteration=20, OutputFlag = 0, Threads = 1, MIPGap = 0.0, TimeLimit = 300, number_branch_var = 2, normalization = 'SNC')\n",
    "cpt.solve(variable_selection_way = 'RL')"
   ]
  }
 ],
 "metadata": {
  "kernelspec": {
   "display_name": "OptML",
   "language": "python",
   "name": "python3"
  },
  "language_info": {
   "codemirror_mode": {
    "name": "ipython",
    "version": 3
   },
   "file_extension": ".py",
   "mimetype": "text/x-python",
   "name": "python",
   "nbconvert_exporter": "python",
   "pygments_lexer": "ipython3",
   "version": "3.11.5"
  }
 },
 "nbformat": 4,
 "nbformat_minor": 2
}
