{
 "cells": [
  {
   "cell_type": "code",
   "execution_count": 2,
   "metadata": {},
   "outputs": [],
   "source": [
    "from copy import deepcopy\n",
    "import gurobipy as gp\n",
    "from gurobipy import GRB\n",
    "import torch\n",
    "import torch.nn as nn\n",
    "import numpy as np\n",
    "import os\n",
    "import math\n",
    "import time\n",
    "import random\n"
   ]
  },
  {
   "cell_type": "code",
   "execution_count": 3,
   "metadata": {},
   "outputs": [],
   "source": [
    "from opt_alg.branch_and_bound_framework import BranchAndBoundFramework"
   ]
  },
  {
   "cell_type": "code",
   "execution_count": 2,
   "metadata": {},
   "outputs": [
    {
     "name": "stdout",
     "output_type": "stream",
     "text": [
      "Read MPS format model from file benchmark/50v-10.mps.gz\n",
      "Reading time = 0.02 seconds\n",
      "50v-10: 233 rows, 2013 columns, 2745 nonzeros\n",
      "This problem has 1647 integer variables and 0 binary variables.\n",
      "The optimal value of LP relaxation is 2879.0656868536717.\n",
      "---------------------------------------------------------------------------------------------------------\n",
      "|  Iter  |    Lower Bound   |   Overall Improvement   |    Upper Bound   |  Iter Time  |  Overall Time  |\n",
      "---------------------------------------------------------------------------------------------------------\n",
      "|       1|         2885.2011|                  0.2131 |              inf |      0.5477 |         0.8270 |\n",
      "|       2|         2888.0303|                  0.3114 |              inf |      0.5317 |         1.3587 |\n",
      "|       3|         2893.0303|                  0.4850 |              inf |      0.5315 |         1.8903 |\n",
      "|       4|         2893.0303|                  0.4850 |              inf |      0.5374 |         2.4278 |\n",
      "|       5|         2895.3303|                  0.5649 |              inf |      0.8795 |         3.3074 |\n",
      "|       6|         2896.7178|                  0.6131 |              inf |      0.5942 |         3.9016 |\n",
      "|       7|         2896.7504|                  0.6143 |              inf |      0.6035 |         4.5052 |\n",
      "|       8|         2896.7504|                  0.6143 |              inf |      0.5977 |         5.1030 |\n",
      "|       9|         2898.2209|                  0.6653 |              inf |      0.8515 |         5.9546 |\n",
      "|      10|         2899.5796|                  0.7125 |              inf |      0.7317 |         6.6865 |\n",
      "---------------------------------------------------------------------------------------------------------\n"
     ]
    }
   ],
   "source": [
    "instanceName = '50v-10'\n",
    "cpt = BranchAndBoundFramework(instanceName, maxIteration=10, OutputFlag = 0, Threads = 1, MIPGap = 0.0, TimeLimit = 300, number_branch_var = 1, normalization = 'SNC')\n",
    "cpt.solve()"
   ]
  }
 ],
 "metadata": {
  "kernelspec": {
   "display_name": "OptML",
   "language": "python",
   "name": "python3"
  },
  "language_info": {
   "codemirror_mode": {
    "name": "ipython",
    "version": 3
   },
   "file_extension": ".py",
   "mimetype": "text/x-python",
   "name": "python",
   "nbconvert_exporter": "python",
   "pygments_lexer": "ipython3",
   "version": "3.11.5"
  }
 },
 "nbformat": 4,
 "nbformat_minor": 2
}
