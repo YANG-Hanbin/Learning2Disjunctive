{
 "cells": [
  {
   "cell_type": "code",
   "execution_count": 1,
   "metadata": {},
   "outputs": [],
   "source": [
    "from copy import deepcopy\n",
    "import gurobipy as gp\n",
    "from gurobipy import GRB\n",
    "import torch\n",
    "import torch.nn as nn\n",
    "import numpy as np\n",
    "import os\n",
    "import math\n",
    "import time\n",
    "import random\n"
   ]
  },
  {
   "cell_type": "code",
   "execution_count": 2,
   "metadata": {},
   "outputs": [],
   "source": [
    "from opt_alg.branch_and_disjuncut_alg import BranchAndDisjunctiveCut"
   ]
  },
  {
   "cell_type": "code",
   "execution_count": 3,
   "metadata": {},
   "outputs": [
    {
     "name": "stdout",
     "output_type": "stream",
     "text": [
      "Read MPS format model from file benchmark/50v-10.mps.gz\n",
      "Reading time = 0.01 seconds\n",
      "50v-10: 233 rows, 2013 columns, 2745 nonzeros\n",
      "This problem has 1647 integer variables and 0 binary variables.\n",
      "The optimal value of LP relaxation is 2879.0656868536717.\n",
      "---------------------------------------------------------------------------------------------------------\n",
      "|  Iter  |    Lower Bound   |   Overall Improvement   |    Upper Bound   |  Iter Time  |  Overall Time  |\n",
      "---------------------------------------------------------------------------------------------------------\n",
      "|       1|         2885.2011|                  0.2131 |              inf |      0.8813 |         1.9021 |\n",
      "|       2|         2885.2011|                  0.2131 |              inf |      0.9333 |         2.8355 |\n",
      "|       3|         2885.2011|                  0.2131 |              inf |      0.9394 |         3.7751 |\n",
      "|       4|         2885.2011|                  0.2131 |              inf |      0.8857 |         4.6608 |\n",
      "|       5|         2885.2011|                  0.2131 |              inf |      0.9077 |         5.5687 |\n",
      "|       6|         2885.2011|                  0.2131 |              inf |      1.0639 |         6.6327 |\n",
      "|       7|         2885.2011|                  0.2131 |              inf |      1.0442 |         7.6769 |\n",
      "|       8|         2885.2011|                  0.2131 |              inf |      1.0043 |         8.6813 |\n",
      "|       9|         2885.2011|                  0.2131 |              inf |      1.0656 |         9.7470 |\n",
      "|      10|         2885.2011|                  0.2131 |              inf |      1.0367 |        10.7838 |\n",
      "---------------------------------------------------------------------------------------------------------\n"
     ]
    }
   ],
   "source": [
    "instanceName = '50v-10'\n",
    "cpt = BranchAndDisjunctiveCut(instanceName, maxIteration=10, OutputFlag = 0, Threads = 1, MIPGap = 0.0, TimeLimit = 300, number_branch_var = 2, number_branch_node = 1)\n",
    "cpt.solve()"
   ]
  }
 ],
 "metadata": {
  "kernelspec": {
   "display_name": "OptML",
   "language": "python",
   "name": "python3"
  },
  "language_info": {
   "codemirror_mode": {
    "name": "ipython",
    "version": 3
   },
   "file_extension": ".py",
   "mimetype": "text/x-python",
   "name": "python",
   "nbconvert_exporter": "python",
   "pygments_lexer": "ipython3",
   "version": "3.11.5"
  }
 },
 "nbformat": 4,
 "nbformat_minor": 2
}
